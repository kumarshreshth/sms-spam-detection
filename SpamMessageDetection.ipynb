{
 "cells": [
  {
   "cell_type": "code",
   "execution_count": 44,
   "id": "cc1c8862",
   "metadata": {},
   "outputs": [],
   "source": [
    "import warnings \n",
    "warnings.simplefilter('ignore')\n",
    "\n",
    "import numpy as np\n",
    "import pickle\n",
    "import pandas as pd\n",
    "import matplotlib.pyplot as plt\n",
    "\n",
    "from sklearn.model_selection import train_test_split\n",
    "from sklearn.feature_extraction.text import TfidfVectorizer\n",
    "\n",
    "from sklearn.metrics import accuracy_score\n",
    "from sklearn.metrics import precision_score\n",
    "from sklearn.metrics import recall_score\n",
    "from sklearn.metrics import f1_score"
   ]
  },
  {
   "cell_type": "code",
   "execution_count": 45,
   "id": "91d47f14",
   "metadata": {},
   "outputs": [],
   "source": [
    "from sklearn.linear_model import LogisticRegression\n",
    "from sklearn.tree import DecisionTreeClassifier\n",
    "from sklearn.svm import SVC\n",
    "from sklearn.neighbors import KNeighborsClassifier\n",
    "from sklearn.ensemble import RandomForestClassifier\n",
    "\n",
    "from sklearn.ensemble import StackingClassifier"
   ]
  },
  {
   "cell_type": "code",
   "execution_count": 46,
   "id": "cc348497",
   "metadata": {},
   "outputs": [
    {
     "data": {
      "text/html": [
       "<div>\n",
       "<style scoped>\n",
       "    .dataframe tbody tr th:only-of-type {\n",
       "        vertical-align: middle;\n",
       "    }\n",
       "\n",
       "    .dataframe tbody tr th {\n",
       "        vertical-align: top;\n",
       "    }\n",
       "\n",
       "    .dataframe thead th {\n",
       "        text-align: right;\n",
       "    }\n",
       "</style>\n",
       "<table border=\"1\" class=\"dataframe\">\n",
       "  <thead>\n",
       "    <tr style=\"text-align: right;\">\n",
       "      <th></th>\n",
       "      <th>Category</th>\n",
       "      <th>Message</th>\n",
       "      <th>Unnamed: 2</th>\n",
       "      <th>Unnamed: 3</th>\n",
       "      <th>Unnamed: 4</th>\n",
       "    </tr>\n",
       "  </thead>\n",
       "  <tbody>\n",
       "    <tr>\n",
       "      <th>0</th>\n",
       "      <td>ham</td>\n",
       "      <td>Go until jurong point, crazy.. Available only ...</td>\n",
       "      <td>NaN</td>\n",
       "      <td>NaN</td>\n",
       "      <td>NaN</td>\n",
       "    </tr>\n",
       "    <tr>\n",
       "      <th>1</th>\n",
       "      <td>ham</td>\n",
       "      <td>Ok lar... Joking wif u oni...</td>\n",
       "      <td>NaN</td>\n",
       "      <td>NaN</td>\n",
       "      <td>NaN</td>\n",
       "    </tr>\n",
       "    <tr>\n",
       "      <th>2</th>\n",
       "      <td>spam</td>\n",
       "      <td>Free entry in 2 a wkly comp to win FA Cup fina...</td>\n",
       "      <td>NaN</td>\n",
       "      <td>NaN</td>\n",
       "      <td>NaN</td>\n",
       "    </tr>\n",
       "    <tr>\n",
       "      <th>3</th>\n",
       "      <td>ham</td>\n",
       "      <td>U dun say so early hor... U c already then say...</td>\n",
       "      <td>NaN</td>\n",
       "      <td>NaN</td>\n",
       "      <td>NaN</td>\n",
       "    </tr>\n",
       "    <tr>\n",
       "      <th>4</th>\n",
       "      <td>ham</td>\n",
       "      <td>Nah I don't think he goes to usf, he lives aro...</td>\n",
       "      <td>NaN</td>\n",
       "      <td>NaN</td>\n",
       "      <td>NaN</td>\n",
       "    </tr>\n",
       "    <tr>\n",
       "      <th>...</th>\n",
       "      <td>...</td>\n",
       "      <td>...</td>\n",
       "      <td>...</td>\n",
       "      <td>...</td>\n",
       "      <td>...</td>\n",
       "    </tr>\n",
       "    <tr>\n",
       "      <th>5567</th>\n",
       "      <td>spam</td>\n",
       "      <td>This is the 2nd time we have tried 2 contact u...</td>\n",
       "      <td>NaN</td>\n",
       "      <td>NaN</td>\n",
       "      <td>NaN</td>\n",
       "    </tr>\n",
       "    <tr>\n",
       "      <th>5568</th>\n",
       "      <td>ham</td>\n",
       "      <td>Will Ì_ b going to esplanade fr home?</td>\n",
       "      <td>NaN</td>\n",
       "      <td>NaN</td>\n",
       "      <td>NaN</td>\n",
       "    </tr>\n",
       "    <tr>\n",
       "      <th>5569</th>\n",
       "      <td>ham</td>\n",
       "      <td>Pity, * was in mood for that. So...any other s...</td>\n",
       "      <td>NaN</td>\n",
       "      <td>NaN</td>\n",
       "      <td>NaN</td>\n",
       "    </tr>\n",
       "    <tr>\n",
       "      <th>5570</th>\n",
       "      <td>ham</td>\n",
       "      <td>The guy did some bitching but I acted like i'd...</td>\n",
       "      <td>NaN</td>\n",
       "      <td>NaN</td>\n",
       "      <td>NaN</td>\n",
       "    </tr>\n",
       "    <tr>\n",
       "      <th>5571</th>\n",
       "      <td>ham</td>\n",
       "      <td>Rofl. Its true to its name</td>\n",
       "      <td>NaN</td>\n",
       "      <td>NaN</td>\n",
       "      <td>NaN</td>\n",
       "    </tr>\n",
       "  </tbody>\n",
       "</table>\n",
       "<p>5572 rows × 5 columns</p>\n",
       "</div>"
      ],
      "text/plain": [
       "     Category                                            Message Unnamed: 2  \\\n",
       "0         ham  Go until jurong point, crazy.. Available only ...        NaN   \n",
       "1         ham                      Ok lar... Joking wif u oni...        NaN   \n",
       "2        spam  Free entry in 2 a wkly comp to win FA Cup fina...        NaN   \n",
       "3         ham  U dun say so early hor... U c already then say...        NaN   \n",
       "4         ham  Nah I don't think he goes to usf, he lives aro...        NaN   \n",
       "...       ...                                                ...        ...   \n",
       "5567     spam  This is the 2nd time we have tried 2 contact u...        NaN   \n",
       "5568      ham              Will Ì_ b going to esplanade fr home?        NaN   \n",
       "5569      ham  Pity, * was in mood for that. So...any other s...        NaN   \n",
       "5570      ham  The guy did some bitching but I acted like i'd...        NaN   \n",
       "5571      ham                         Rofl. Its true to its name        NaN   \n",
       "\n",
       "     Unnamed: 3 Unnamed: 4  \n",
       "0           NaN        NaN  \n",
       "1           NaN        NaN  \n",
       "2           NaN        NaN  \n",
       "3           NaN        NaN  \n",
       "4           NaN        NaN  \n",
       "...         ...        ...  \n",
       "5567        NaN        NaN  \n",
       "5568        NaN        NaN  \n",
       "5569        NaN        NaN  \n",
       "5570        NaN        NaN  \n",
       "5571        NaN        NaN  \n",
       "\n",
       "[5572 rows x 5 columns]"
      ]
     },
     "execution_count": 46,
     "metadata": {},
     "output_type": "execute_result"
    }
   ],
   "source": [
    "df =  pd.read_csv(r\"C:\\Users\\SUPREME_LEADER\\Documents\\mini-project\\Spam-Email-Detection\\Data Source\\SPAM.csv\")\n",
    "df"
   ]
  },
  {
   "cell_type": "code",
   "execution_count": 47,
   "id": "74567d76",
   "metadata": {},
   "outputs": [],
   "source": [
    "data = df.drop(labels=['Unnamed: 2', 'Unnamed: 3', 'Unnamed: 4'], axis=1)"
   ]
  },
  {
   "cell_type": "code",
   "execution_count": 48,
   "id": "dd6c7cb4",
   "metadata": {},
   "outputs": [
    {
     "data": {
      "text/plain": [
       "Category    0\n",
       "Message     0\n",
       "dtype: int64"
      ]
     },
     "execution_count": 48,
     "metadata": {},
     "output_type": "execute_result"
    }
   ],
   "source": [
    "data.isnull().sum()"
   ]
  },
  {
   "cell_type": "code",
   "execution_count": 49,
   "id": "2e2f82d4",
   "metadata": {},
   "outputs": [
    {
     "data": {
      "text/plain": [
       "Category    object\n",
       "Message     object\n",
       "dtype: object"
      ]
     },
     "execution_count": 49,
     "metadata": {},
     "output_type": "execute_result"
    }
   ],
   "source": [
    "data.dtypes"
   ]
  },
  {
   "cell_type": "code",
   "execution_count": 50,
   "id": "5a48466b",
   "metadata": {},
   "outputs": [],
   "source": [
    "data.loc[data['Category'] == 'spam', 'Category',] = 0\n",
    "data.loc[data['Category'] == 'ham', 'Category',] = 1"
   ]
  },
  {
   "cell_type": "code",
   "execution_count": 51,
   "id": "0c1bc1f2",
   "metadata": {},
   "outputs": [
    {
     "data": {
      "text/plain": [
       "Category\n",
       "1    4825\n",
       "0     747\n",
       "Name: count, dtype: int64"
      ]
     },
     "execution_count": 51,
     "metadata": {},
     "output_type": "execute_result"
    }
   ],
   "source": [
    "data['Category'].value_counts()"
   ]
  },
  {
   "cell_type": "code",
   "execution_count": 52,
   "id": "e0c4d4f1",
   "metadata": {},
   "outputs": [],
   "source": [
    "X = data['Message']\n",
    "\n",
    "Y = data['Category']"
   ]
  },
  {
   "cell_type": "code",
   "execution_count": 53,
   "id": "2e966f37",
   "metadata": {},
   "outputs": [
    {
     "data": {
      "text/plain": [
       "0       Go until jurong point, crazy.. Available only ...\n",
       "1                           Ok lar... Joking wif u oni...\n",
       "2       Free entry in 2 a wkly comp to win FA Cup fina...\n",
       "3       U dun say so early hor... U c already then say...\n",
       "4       Nah I don't think he goes to usf, he lives aro...\n",
       "                              ...                        \n",
       "5567    This is the 2nd time we have tried 2 contact u...\n",
       "5568                Will Ì_ b going to esplanade fr home?\n",
       "5569    Pity, * was in mood for that. So...any other s...\n",
       "5570    The guy did some bitching but I acted like i'd...\n",
       "5571                           Rofl. Its true to its name\n",
       "Name: Message, Length: 5572, dtype: object"
      ]
     },
     "execution_count": 53,
     "metadata": {},
     "output_type": "execute_result"
    }
   ],
   "source": [
    "X"
   ]
  },
  {
   "cell_type": "code",
   "execution_count": 54,
   "id": "53ede04d",
   "metadata": {},
   "outputs": [
    {
     "data": {
      "text/plain": [
       "0       1\n",
       "1       1\n",
       "2       0\n",
       "3       1\n",
       "4       1\n",
       "       ..\n",
       "5567    0\n",
       "5568    1\n",
       "5569    1\n",
       "5570    1\n",
       "5571    1\n",
       "Name: Category, Length: 5572, dtype: object"
      ]
     },
     "execution_count": 54,
     "metadata": {},
     "output_type": "execute_result"
    }
   ],
   "source": [
    "Y"
   ]
  },
  {
   "cell_type": "code",
   "execution_count": 55,
   "id": "e5fcf412",
   "metadata": {},
   "outputs": [],
   "source": [
    "X_train, X_test, Y_train, Y_test = train_test_split(X, Y, test_size=0.2, random_state=3)"
   ]
  },
  {
   "cell_type": "code",
   "execution_count": 56,
   "id": "711f5006",
   "metadata": {},
   "outputs": [
    {
     "name": "stdout",
     "output_type": "stream",
     "text": [
      "(5572,)\n",
      "(4457,)\n",
      "(1115,)\n"
     ]
    }
   ],
   "source": [
    "print(X.shape)\n",
    "print(X_train.shape)\n",
    "print(X_test.shape)"
   ]
  },
  {
   "cell_type": "code",
   "execution_count": 57,
   "id": "a8fdbc37",
   "metadata": {},
   "outputs": [],
   "source": [
    "feature_extraction = TfidfVectorizer(min_df = 1, stop_words='english', lowercase = True)"
   ]
  },
  {
   "cell_type": "code",
   "execution_count": 58,
   "id": "796fdced",
   "metadata": {},
   "outputs": [],
   "source": [
    "X_train_features = feature_extraction.fit_transform(X_train)\n",
    "X_test_features = feature_extraction.transform(X_test)"
   ]
  },
  {
   "cell_type": "code",
   "execution_count": 59,
   "id": "e7834878",
   "metadata": {},
   "outputs": [],
   "source": [
    "with open(r\"C:\\Users\\SUPREME_LEADER\\Documents\\mini-project\\Spam-Email-Detection\\Pickle Files\\vectorizer.pkl\", \"wb\") as file:\n",
    "    pickle.dump(feature_extraction, file)"
   ]
  },
  {
   "cell_type": "code",
   "execution_count": 60,
   "id": "124c387b",
   "metadata": {},
   "outputs": [],
   "source": [
    "Y_train = Y_train.astype('int')\n",
    "Y_test = Y_test.astype('int')"
   ]
  },
  {
   "cell_type": "markdown",
   "id": "74683297",
   "metadata": {},
   "source": [
    "# LOGISTIC REGRESSION"
   ]
  },
  {
   "cell_type": "code",
   "execution_count": 61,
   "id": "fdb86511",
   "metadata": {},
   "outputs": [
    {
     "name": "stdout",
     "output_type": "stream",
     "text": [
      "Logistic Regression:\n",
      "\n",
      "Training Data Accuracy: 0.9661207089970832\n",
      "Testing Data Accuracy : 0.9623318385650225\n",
      "Precision             : 0.959\n",
      "Recall                : 0.9989583333333333\n",
      "F1 Score              : 0.9785714285714285\n"
     ]
    }
   ],
   "source": [
    "lr = LogisticRegression()\n",
    "lr.fit(X_train_features, Y_train)\n",
    "\n",
    "\n",
    "lr_train = lr.predict(X_train_features)\n",
    "lr_test = lr.predict(X_test_features)\n",
    "\n",
    "        \n",
    "lr_train_acc = accuracy_score(Y_train, lr_train)\n",
    "lr_test_acc = accuracy_score(Y_test, lr_test)\n",
    "\n",
    "\n",
    "lr_precision = precision_score(Y_test, lr_test)\n",
    "lr_recall = recall_score(Y_test, lr_test)\n",
    "lr_f1 = f1_score(Y_test, lr_test)\n",
    "\n",
    "\n",
    "print(\"Logistic Regression:\\n\")\n",
    "print(\"Training Data Accuracy:\", lr_train_acc)\n",
    "print(\"Testing Data Accuracy :\", lr_test_acc)\n",
    "\n",
    "print(\"Precision             :\", lr_precision)\n",
    "print(\"Recall                :\", lr_recall)\n",
    "print(\"F1 Score              :\", lr_f1)"
   ]
  },
  {
   "cell_type": "markdown",
   "id": "3398ca05",
   "metadata": {},
   "source": [
    "# DECISION TREES"
   ]
  },
  {
   "cell_type": "code",
   "execution_count": 62,
   "id": "669b602f",
   "metadata": {},
   "outputs": [
    {
     "name": "stdout",
     "output_type": "stream",
     "text": [
      "Decision Tress:\n",
      "\n",
      "Training Data Accuracy: 1.0\n",
      "Testing Data Accuracy : 0.9650224215246637\n",
      "Precision             : 0.9732785200411099\n",
      "Recall                : 0.9864583333333333\n",
      "F1 Score              : 0.9798241076047595\n"
     ]
    }
   ],
   "source": [
    "dtrees = DecisionTreeClassifier()\n",
    "dtrees.fit(X_train_features, Y_train)\n",
    "\n",
    "\n",
    "dt_train = dtrees.predict(X_train_features)\n",
    "dt_test = dtrees.predict(X_test_features)\n",
    "\n",
    "\n",
    "dt_train_acc = accuracy_score(Y_train, dt_train)\n",
    "dt_test_acc = accuracy_score(Y_test, dt_test)\n",
    "\n",
    "\n",
    "dt_precision = precision_score(Y_test, dt_test)\n",
    "dt_recall = recall_score(Y_test, dt_test)\n",
    "dt_f1 = f1_score(Y_test, dt_test)\n",
    "\n",
    "\n",
    "print(\"Decision Tress:\\n\")\n",
    "print(\"Training Data Accuracy:\", dt_train_acc)\n",
    "print(\"Testing Data Accuracy :\", dt_test_acc)\n",
    "\n",
    "print(\"Precision             :\", dt_precision)\n",
    "print(\"Recall                :\", dt_recall)\n",
    "print(\"F1 Score              :\", dt_f1)"
   ]
  },
  {
   "cell_type": "markdown",
   "id": "90ea91a3",
   "metadata": {},
   "source": [
    "# K NEAREST NEIGHBORS"
   ]
  },
  {
   "cell_type": "code",
   "execution_count": 63,
   "id": "47523a35",
   "metadata": {},
   "outputs": [
    {
     "name": "stdout",
     "output_type": "stream",
     "text": [
      "K Nearest Neighbors:\n",
      "\n",
      "Training Data Accuracy: 0.9199012788871438\n",
      "Testing Data Accuracy : 0.905829596412556\n",
      "Precision             : 0.9014084507042254\n",
      "Recall                : 1.0\n",
      "F1 Score              : 0.9481481481481482\n"
     ]
    }
   ],
   "source": [
    "knn = KNeighborsClassifier()\n",
    "knn.fit(X_train_features, Y_train)\n",
    "\n",
    "\n",
    "knn_train = knn.predict(X_train_features)\n",
    "knn_test = knn.predict(X_test_features)\n",
    "\n",
    "\n",
    "knn_train_acc = accuracy_score(Y_train, knn_train)\n",
    "knn_test_acc = accuracy_score(Y_test, knn_test)\n",
    "\n",
    "\n",
    "knn_precision = precision_score(Y_test, knn_test)\n",
    "knn_recall = recall_score(Y_test, knn_test)\n",
    "knn_f1 = f1_score(Y_test, knn_test)\n",
    "\n",
    "\n",
    "print(\"K Nearest Neighbors:\\n\")\n",
    "print(\"Training Data Accuracy:\", knn_train_acc)\n",
    "print(\"Testing Data Accuracy :\", knn_test_acc)\n",
    "\n",
    "print(\"Precision             :\", knn_precision)\n",
    "print(\"Recall                :\", knn_recall)\n",
    "print(\"F1 Score              :\", knn_f1)"
   ]
  },
  {
   "cell_type": "markdown",
   "id": "43f66f5c",
   "metadata": {},
   "source": [
    "# RANDOM FOREST"
   ]
  },
  {
   "cell_type": "code",
   "execution_count": 64,
   "id": "bf28b066",
   "metadata": {},
   "outputs": [
    {
     "name": "stdout",
     "output_type": "stream",
     "text": [
      "Random Forest:\n",
      "\n",
      "Training Data Accuracy: 1.0\n",
      "Testing Data Accuracy : 0.979372197309417\n",
      "Precision             : 0.9775739041794088\n",
      "Recall                : 0.9989583333333333\n",
      "F1 Score              : 0.9881504379185987\n"
     ]
    }
   ],
   "source": [
    "rf = RandomForestClassifier()\n",
    "rf.fit(X_train_features, Y_train)\n",
    "\n",
    "\n",
    "rf_train = rf.predict(X_train_features)\n",
    "rf_test = rf.predict(X_test_features)\n",
    "\n",
    "\n",
    "rf_train_acc = accuracy_score(Y_train, rf_train)\n",
    "rf_test_acc = accuracy_score(Y_test, rf_test)\n",
    "\n",
    "\n",
    "rf_precision = precision_score(Y_test, rf_test)\n",
    "rf_recall = recall_score(Y_test, rf_test)\n",
    "rf_f1 = f1_score(Y_test, rf_test)\n",
    "\n",
    "\n",
    "print(\"Random Forest:\\n\")\n",
    "print(\"Training Data Accuracy:\", rf_train_acc)\n",
    "print(\"Testing Data Accuracy :\", rf_test_acc)   \n",
    "           \n",
    "print(\"Precision             :\", rf_precision)\n",
    "print(\"Recall                :\", rf_recall)\n",
    "print(\"F1 Score              :\", rf_f1)"
   ]
  },
  {
   "cell_type": "markdown",
   "id": "6c144d9c",
   "metadata": {},
   "source": [
    "# STACKING MODEL"
   ]
  },
  {
   "cell_type": "code",
   "execution_count": 65,
   "id": "df960558",
   "metadata": {},
   "outputs": [
    {
     "name": "stdout",
     "output_type": "stream",
     "text": [
      "Stacking Classifier:\n",
      "\n",
      "Training Data Accuracy: 0.9993269015032533\n",
      "Testing Data Accuracy : 0.9856502242152466\n",
      "Precision             : 0.987603305785124\n",
      "Recall                : 0.9958333333333333\n",
      "F1 Score              : 0.991701244813278\n"
     ]
    }
   ],
   "source": [
    "estimators = [ ('lr', lr), ('dtree', dtrees), ('knn', knn), ('rf', rf) ]\n",
    "stack = StackingClassifier(estimators, final_estimator = SVC(kernel='linear'))\n",
    "stack.fit(X_train_features, Y_train)\n",
    "\n",
    "\n",
    "stack_train = stack.predict(X_train_features)\n",
    "stack_test = stack.predict(X_test_features)\n",
    "\n",
    "\n",
    "stack_train_acc = accuracy_score(Y_train, stack_train)\n",
    "stack_test_acc = accuracy_score(Y_test, stack_test)\n",
    "\n",
    "\n",
    "stack_precision = precision_score(Y_test, stack_test)\n",
    "stack_recall = recall_score(Y_test, stack_test)\n",
    "stack_f1 = f1_score(Y_test, stack_test)\n",
    "\n",
    "\n",
    "print(\"Stacking Classifier:\\n\")\n",
    "print(\"Training Data Accuracy:\", stack_train_acc)\n",
    "print(\"Testing Data Accuracy :\", stack_test_acc)   \n",
    "           \n",
    "print(\"Precision             :\", stack_precision)\n",
    "print(\"Recall                :\", stack_recall)\n",
    "print(\"F1 Score              :\", stack_f1)"
   ]
  },
  {
   "cell_type": "code",
   "execution_count": 66,
   "id": "2dff033e",
   "metadata": {},
   "outputs": [],
   "source": [
    "with open(r\"C:\\Users\\SUPREME_LEADER\\Documents\\mini-project\\Spam-Email-Detection\\Pickle Files\\spam_model.pkl\", \"wb\") as file:\n",
    "    pickle.dump(stack, file)"
   ]
  },
  {
   "cell_type": "markdown",
   "id": "ae56053e",
   "metadata": {},
   "source": [
    "# Metrics Visualization"
   ]
  },
  {
   "cell_type": "code",
   "execution_count": 67,
   "id": "c82afbcd",
   "metadata": {},
   "outputs": [],
   "source": [
    "train_acc_list = {\"LR\":lr_train_acc,\n",
    "                  \"DT\":dt_train_acc,\n",
    "                  \"KNN\":knn_train_acc,\n",
    "                  \"RF\":rf_train_acc,\n",
    "                  \"STACK\":stack_train_acc}\n",
    "\n",
    "test_acc_list = {\"LR\":lr_test_acc,\n",
    "                  \"DT\":dt_test_acc,\n",
    "                  \"KNN\":knn_test_acc,\n",
    "                  \"RF\":rf_test_acc,\n",
    "                  \"STACK\":stack_test_acc}\n",
    "\n",
    "precision_list = {\"LR\":lr_precision,\n",
    "                  \"DT\":dt_precision,\n",
    "                  \"KNN\":knn_precision,\n",
    "                  \"RF\":rf_precision,\n",
    "                  \"STACK\":stack_precision}\n",
    "\n",
    "recall_list = {\"LR\":lr_recall,\n",
    "               \"DT\":dt_recall,\n",
    "               \"KNN\":knn_recall,\n",
    "               \"RF\":rf_recall,\n",
    "               \"STACK\":stack_recall}\n",
    "\n",
    "f1_list = {\"LR\":lr_f1,\n",
    "               \"DT\":dt_f1,\n",
    "               \"KNN\":knn_f1,\n",
    "               \"RF\":rf_f1,\n",
    "               \"STACK\":stack_f1}"
   ]
  },
  {
   "cell_type": "code",
   "execution_count": 68,
   "id": "f23ebde4",
   "metadata": {},
   "outputs": [
    {
     "data": {
      "text/html": [
       "<div>\n",
       "<style scoped>\n",
       "    .dataframe tbody tr th:only-of-type {\n",
       "        vertical-align: middle;\n",
       "    }\n",
       "\n",
       "    .dataframe tbody tr th {\n",
       "        vertical-align: top;\n",
       "    }\n",
       "\n",
       "    .dataframe thead th {\n",
       "        text-align: right;\n",
       "    }\n",
       "</style>\n",
       "<table border=\"1\" class=\"dataframe\">\n",
       "  <thead>\n",
       "    <tr style=\"text-align: right;\">\n",
       "      <th></th>\n",
       "      <th>Traning Accuracy</th>\n",
       "      <th>Testing Accuracy</th>\n",
       "      <th>Precision Score</th>\n",
       "      <th>Recall Score</th>\n",
       "      <th>F1 Score</th>\n",
       "    </tr>\n",
       "  </thead>\n",
       "  <tbody>\n",
       "    <tr>\n",
       "      <th>LR</th>\n",
       "      <td>0.966121</td>\n",
       "      <td>0.962332</td>\n",
       "      <td>0.959000</td>\n",
       "      <td>0.998958</td>\n",
       "      <td>0.978571</td>\n",
       "    </tr>\n",
       "    <tr>\n",
       "      <th>DT</th>\n",
       "      <td>1.000000</td>\n",
       "      <td>0.965022</td>\n",
       "      <td>0.973279</td>\n",
       "      <td>0.986458</td>\n",
       "      <td>0.979824</td>\n",
       "    </tr>\n",
       "    <tr>\n",
       "      <th>KNN</th>\n",
       "      <td>0.919901</td>\n",
       "      <td>0.905830</td>\n",
       "      <td>0.901408</td>\n",
       "      <td>1.000000</td>\n",
       "      <td>0.948148</td>\n",
       "    </tr>\n",
       "    <tr>\n",
       "      <th>RF</th>\n",
       "      <td>1.000000</td>\n",
       "      <td>0.979372</td>\n",
       "      <td>0.977574</td>\n",
       "      <td>0.998958</td>\n",
       "      <td>0.988150</td>\n",
       "    </tr>\n",
       "    <tr>\n",
       "      <th>STACK</th>\n",
       "      <td>0.999327</td>\n",
       "      <td>0.985650</td>\n",
       "      <td>0.987603</td>\n",
       "      <td>0.995833</td>\n",
       "      <td>0.991701</td>\n",
       "    </tr>\n",
       "  </tbody>\n",
       "</table>\n",
       "</div>"
      ],
      "text/plain": [
       "       Traning Accuracy  Testing Accuracy  Precision Score  Recall Score  \\\n",
       "LR             0.966121          0.962332         0.959000      0.998958   \n",
       "DT             1.000000          0.965022         0.973279      0.986458   \n",
       "KNN            0.919901          0.905830         0.901408      1.000000   \n",
       "RF             1.000000          0.979372         0.977574      0.998958   \n",
       "STACK          0.999327          0.985650         0.987603      0.995833   \n",
       "\n",
       "       F1 Score  \n",
       "LR     0.978571  \n",
       "DT     0.979824  \n",
       "KNN    0.948148  \n",
       "RF     0.988150  \n",
       "STACK  0.991701  "
      ]
     },
     "execution_count": 68,
     "metadata": {},
     "output_type": "execute_result"
    }
   ],
   "source": [
    "a1 =  pd.DataFrame.from_dict(train_acc_list, orient = 'index', columns = [\"Traning Accuracy\"])\n",
    "a2 =  pd.DataFrame.from_dict(test_acc_list, orient = 'index', columns = [\"Testing Accuracy\"])\n",
    "a3 =  pd.DataFrame.from_dict(precision_list, orient = 'index', columns = [\"Precision Score\"])\n",
    "a4 =  pd.DataFrame.from_dict(recall_list, orient = 'index', columns = [\"Recall Score\"])\n",
    "a5 =  pd.DataFrame.from_dict(f1_list, orient = 'index', columns = [\"F1 Score\"])\n",
    "\n",
    "org = pd.concat([a1, a2, a3, a4, a5], axis = 1)\n",
    "org"
   ]
  },
  {
   "cell_type": "code",
   "execution_count": 69,
   "id": "c2bf5803",
   "metadata": {},
   "outputs": [
    {
     "data": {
      "image/png": "[encoded data removed]",
      "text/plain": [
       "<Figure size 640x480 with 1 Axes>"
      ]
     },
     "metadata": {},
     "output_type": "display_data"
    }
   ],
   "source": [
    "alg = ['LR','DT','KNN','RF','STACK']\n",
    "plt.plot(alg,a1)\n",
    "plt.plot(alg,a2)\n",
    "plt.plot(alg,a3)\n",
    "plt.plot(alg,a4)\n",
    "plt.plot(alg,a5)\n",
    "legend = ['Traning Accuracy', 'Testing Accuracy', 'Precision Score', 'Recall Score', 'F1 Score']\n",
    "plt.title(\"METRICS COMPARISION\")\n",
    "plt.legend(legend)\n",
    "plt.show()"
   ]
  },
  {
   "cell_type": "code",
   "execution_count": 70,
   "id": "b2b950ab",
   "metadata": {},
   "outputs": [
    {
     "name": "stdout",
     "output_type": "stream",
     "text": [
      "HAM MAIL\n"
     ]
    }
   ],
   "source": [
    "input_mail = [\"Hi this is  kalyan\"]\n",
    "\n",
    "input_mail_features = feature_extraction.transform(input_mail)\n",
    "\n",
    "prediction = stack.predict(input_mail_features)\n",
    "\n",
    "if(prediction == 0):\n",
    "    print(\"SPAM MAIL\")\n",
    "else:\n",
    "    print(\"HAM MAIL\")"
   ]
  }
 ],
 "metadata": {
  "kernelspec": {
   "display_name": "env",
   "language": "python",
   "name": "python3"
  },
  "language_info": {
   "codemirror_mode": {
    "name": "ipython",
    "version": 3
   },
   "file_extension": ".py",
   "mimetype": "text/x-python",
   "name": "python",
   "nbconvert_exporter": "python",
   "pygments_lexer": "ipython3",
   "version": "3.9.13"
  }
 },
 "nbformat": 4,
 "nbformat_minor": 5
}
